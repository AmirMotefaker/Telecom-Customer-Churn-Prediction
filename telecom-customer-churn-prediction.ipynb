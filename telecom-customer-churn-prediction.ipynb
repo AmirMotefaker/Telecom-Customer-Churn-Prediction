{
 "cells": [
  {
   "cell_type": "markdown",
   "id": "56e8f79e",
   "metadata": {
    "papermill": {
     "duration": 0.002319,
     "end_time": "2023-01-21T08:27:35.343435",
     "exception": false,
     "start_time": "2023-01-21T08:27:35.341116",
     "status": "completed"
    },
    "tags": []
   },
   "source": [
    "# Telecom Customer Churn Prediction\n",
    "### Churn is a one of the biggest problem in the telecom industry. \n",
    "\n",
    "### I have explored the following classficiation techniques and compared their accuracy and other metrics such as: \n",
    "   - ROC-AUC score\n",
    "   - True Positive Rate and False Positive Rate"
   ]
  }
 ],
 "metadata": {
  "kernelspec": {
   "display_name": "Python 3",
   "language": "python",
   "name": "python3"
  },
  "language_info": {
   "codemirror_mode": {
    "name": "ipython",
    "version": 3
   },
   "file_extension": ".py",
   "mimetype": "text/x-python",
   "name": "python",
   "nbconvert_exporter": "python",
   "pygments_lexer": "ipython3",
   "version": "3.7.12"
  },
  "papermill": {
   "default_parameters": {},
   "duration": 11.040199,
   "end_time": "2023-01-21T08:27:36.171832",
   "environment_variables": {},
   "exception": null,
   "input_path": "__notebook__.ipynb",
   "output_path": "__notebook__.ipynb",
   "parameters": {},
   "start_time": "2023-01-21T08:27:25.131633",
   "version": "2.3.4"
  }
 },
 "nbformat": 4,
 "nbformat_minor": 5
}
